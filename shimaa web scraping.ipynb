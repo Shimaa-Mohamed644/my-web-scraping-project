{
 "cells": [
  {
   "cell_type": "code",
   "execution_count": 1,
   "id": "1e7e3a8c",
   "metadata": {},
   "outputs": [
    {
     "name": "stdout",
     "output_type": "stream",
     "text": [
      "Requirement already satisfied: requests in c:\\users\\compumarts\\anaconda3\\lib\\site-packages (2.31.0)Note: you may need to restart the kernel to use updated packages.\n",
      "\n",
      "Requirement already satisfied: beautifulsoup4 in c:\\users\\compumarts\\anaconda3\\lib\\site-packages (4.12.2)\n",
      "Requirement already satisfied: pandas in c:\\users\\compumarts\\anaconda3\\lib\\site-packages (2.0.3)\n",
      "Requirement already satisfied: charset-normalizer<4,>=2 in c:\\users\\compumarts\\anaconda3\\lib\\site-packages (from requests) (2.0.4)\n",
      "Requirement already satisfied: idna<4,>=2.5 in c:\\users\\compumarts\\anaconda3\\lib\\site-packages (from requests) (3.4)\n",
      "Requirement already satisfied: urllib3<3,>=1.21.1 in c:\\users\\compumarts\\anaconda3\\lib\\site-packages (from requests) (1.26.16)\n",
      "Requirement already satisfied: certifi>=2017.4.17 in c:\\users\\compumarts\\anaconda3\\lib\\site-packages (from requests) (2023.11.17)\n",
      "Requirement already satisfied: soupsieve>1.2 in c:\\users\\compumarts\\anaconda3\\lib\\site-packages (from beautifulsoup4) (2.4)\n",
      "Requirement already satisfied: python-dateutil>=2.8.2 in c:\\users\\compumarts\\anaconda3\\lib\\site-packages (from pandas) (2.8.2)\n",
      "Requirement already satisfied: pytz>=2020.1 in c:\\users\\compumarts\\anaconda3\\lib\\site-packages (from pandas) (2023.3.post1)\n",
      "Requirement already satisfied: tzdata>=2022.1 in c:\\users\\compumarts\\anaconda3\\lib\\site-packages (from pandas) (2023.3)\n",
      "Requirement already satisfied: numpy>=1.21.0 in c:\\users\\compumarts\\anaconda3\\lib\\site-packages (from pandas) (1.24.3)\n",
      "Requirement already satisfied: six>=1.5 in c:\\users\\compumarts\\anaconda3\\lib\\site-packages (from python-dateutil>=2.8.2->pandas) (1.16.0)\n"
     ]
    }
   ],
   "source": [
    "pip install requests beautifulsoup4 pandas"
   ]
  },
  {
   "cell_type": "code",
   "execution_count": 2,
   "id": "2e01ddc4",
   "metadata": {},
   "outputs": [],
   "source": [
    "import requests\n",
    "from bs4 import BeautifulSoup"
   ]
  },
  {
   "cell_type": "code",
   "execution_count": 3,
   "id": "aa69c151",
   "metadata": {},
   "outputs": [
    {
     "name": "stdout",
     "output_type": "stream",
     "text": [
      "<!DOCTYPE html>\n",
      "\n",
      "<html>\n",
      "\n",
      "    <head>\n",
      "        <title>Web Scraping Task with Form</title>\n",
      "\n",
      "         <style>\n",
      "        body {\n",
      "            font-family: Arial, sans-serif;\n",
      "            margin: 20px;\n",
      "            background-color: #f5f5f5;\n",
      "        }\n",
      "\n",
      "        h1 {\n",
      "            color: darkred;\n",
      "            text-align: center;\n",
      "        }\n",
      "\n",
      "        h2 {\n",
      "            color: darkblue;\n",
      "            font-style: italic;\n",
      "        }\n",
      "\n",
      "        p {\n",
      "            color: #555;\n",
      "            font-size: 14px;\n",
      "        }\n",
      "\n",
      "        img {\n",
      "            width: 250px;\n",
      "            height: auto;\n",
      "            border-radius: 10px;\n",
      "        }\n",
      "\n",
      "        table {\n",
      "            width: 100%;\n",
      "            border-collapse: collapse;\n",
      "            margin: 20px 0;\n",
      "        }\n",
      "\n",
      "        table, th, td {\n",
      "            border: 1px solid #ccc;\n",
      "        }\n",
      "\n",
      "        th {\n",
      "            background-color: #333;\n",
      "            color: white;\n",
      "            padding: 10px;\n",
      "        }\n",
      "\n",
      "        td {\n",
      "            text-align: center;\n",
      "            padding: 10px;\n",
      "        }\n",
      "\n",
      "        .btn {\n",
      "            background-color: darkgreen;\n",
      "            color: white;\n",
      "            border: none;\n",
      "            padding: 10px 20px;\n",
      "            cursor: pointer;\n",
      "            text-transform: uppercase;\n",
      "            font-weight: bold;\n",
      "        }\n",
      "\n",
      "        .btn:hover {\n",
      "            background-color: green;\n",
      "        }\n",
      "\n",
      "        ul {\n",
      "            list-style-type: square;\n",
      "        }\n",
      "\n",
      "        iframe {\n",
      "            display: block;\n",
      "            margin: 20px auto;\n",
      "            border: none;\n",
      "        }\n",
      "\n",
      "        .footer {\n",
      "            background-color: #333;\n",
      "            color: white;\n",
      "            text-align: center;\n",
      "            padding: 10px 0;\n",
      "            margin-top: 30px;\n",
      "        }\n",
      "\n",
      "        .highlight {\n",
      "            background-color: yellow;\n",
      "            font-weight: bold;\n",
      "        }\n",
      "\n",
      "        form {\n",
      "            margin: 20px 0;\n",
      "            background-color: #fff;\n",
      "            padding: 20px;\n",
      "            border: 1px solid #ccc;\n",
      "            border-radius: 5px;\n",
      "        }\n",
      "\n",
      "        form input, form select, form button {\n",
      "            display: block;\n",
      "            margin: 10px 0;\n",
      "            padding: 10px;\n",
      "            width: 100%;\n",
      "            max-width: 400px;\n",
      "            border: 1px solid #ccc;\n",
      "            border-radius: 5px;\n",
      "        }\n",
      "\n",
      "        .products {\n",
      "            display: flex;\n",
      "            flex-wrap: wrap;\n",
      "            justify-content: center;\n",
      "            gap: 20px;\n",
      "            margin-top: 30px;\n",
      "        }\n",
      "\n",
      "        .product-card {\n",
      "            width: 250px;\n",
      "            border: 1px solid #ddd;\n",
      "            border-radius: 8px;\n",
      "            background-color: #fff;\n",
      "            box-shadow: 0 4px 6px rgba(0, 0, 0, 0.1);\n",
      "            text-align: center;\n",
      "            overflow: hidden;\n",
      "            transition: transform 0.3s ease, box-shadow 0.3s ease;\n",
      "        }\n",
      "\n",
      "        .product-card:hover {\n",
      "            transform: translateY(-5px);\n",
      "            box-shadow: 0 8px 12px rgba(0, 0, 0, 0.2);\n",
      "        }\n",
      "\n",
      "        .product-card img {\n",
      "            width: 100%;\n",
      "            height: 150px;\n",
      "            object-fit: cover;\n",
      "        }\n",
      "\n",
      "        .product-card .name {\n",
      "            font-size: 18px;\n",
      "            font-weight: bold;\n",
      "            margin: 15px 0 5px;\n",
      "            color: #333;\n",
      "        }\n",
      "\n",
      "        .product-card .price {\n",
      "            font-size: 16px;\n",
      "            color: #28a745;\n",
      "            margin: 5px 0;\n",
      "        }\n",
      "\n",
      "        .product-card .colors {\n",
      "            font-size: 14px;\n",
      "            color: #666;\n",
      "            margin-bottom: 15px;\n",
      "        }\n",
      "\n",
      "        .product-card button {\n",
      "            background-color: #007bff;\n",
      "            color: white;\n",
      "            border: none;\n",
      "            padding: 10px 20px;\n",
      "            margin: 10px 0;\n",
      "            cursor: pointer;\n",
      "            border-radius: 5px;\n",
      "            font-size: 14px;\n",
      "            transition: background-color 0.3s ease;\n",
      "        }\n",
      "\n",
      "        .product-card button:hover {\n",
      "            background-color: #0056b3;\n",
      "        }\n",
      "    </style>\n",
      "    </head>\n",
      "\n",
      "    <body>\n",
      "        <h1>Web Scraping Practice</h1>\n",
      "        <p>Welcome to the web scraping task! Use your skills to extract the required data from this page.</p>\n",
      "\n",
      "        <h2>Available Products</h2>\n",
      "        <ul>\n",
      "            <li class=\"highlight\">Laptop</li>\n",
      "            <li>Smartphone</li>\n",
      "            <li>Tablet</li>\n",
      "            <li>Smartwatch</li>\n",
      "        </ul>\n",
      "\n",
      "        <h2>Product Table</h2>\n",
      "        <table>\n",
      "            <tr>\n",
      "                <th>Product</th>\n",
      "                <th>Price</th>\n",
      "                <th>In Stock</th>\n",
      "            </tr>\n",
      "            <tr>\n",
      "                <td>Laptop</td>\n",
      "                <td>$1000</td>\n",
      "                <td>Yes</td>\n",
      "            </tr>\n",
      "            <tr>\n",
      "                <td>Smartphone</td>\n",
      "                <td>$800</td>\n",
      "                <td>No</td>\n",
      "            </tr>\n",
      "            <tr>\n",
      "                <td>Tablet</td>\n",
      "                <td>$500</td>\n",
      "                <td>Yes</td>\n",
      "            </tr>\n",
      "        </table>\n",
      "\n",
      "        <h2>Watch This Video</h2>\n",
      "        <iframe width=\"560\" height=\"315\" src=\"https://www.youtube.com/watch?v=ujf9RNuBdCU\"></iframe>\n",
      "        \n",
      "        \n",
      "\n",
      "        \n",
      "        <h2>Contact Us</h2>\n",
      "        <form>\n",
      "            <label for=\"username\">Username:</label>\n",
      "            <input type=\"text\" id=\"username\" name=\"username\" placeholder=\"Enter your username\">\n",
      "\n",
      "            <label for=\"password\">Password:</label>\n",
      "            <input type=\"password\" id=\"password\" name=\"password\" placeholder=\"Enter your password\">\n",
      "\n",
      "            <label for=\"options\">Choose an option:</label>\n",
      "            <select id=\"options\" name=\"options\">\n",
      "                <option value=\"option1\">Option 1</option>\n",
      "                <option value=\"option2\">Option 2</option>\n",
      "                <option value=\"option3\">Option 3</option>\n",
      "            </select>\n",
      "\n",
      "            <label>\n",
      "                <input type=\"checkbox\" name=\"terms\"> I agree to the terms and conditions\n",
      "            </label>\n",
      "\n",
      "            <input type=\"submit\" value=\"Submit\">\n",
      "        </form>\n",
      "\n",
      "<h2>Product Information</h2>\n",
      "<div style=\"display: flex; justify-content: space-around; margin-top: 20px;\">\n",
      "    <div style=\"text-align: center; width: 200px; border: 1px solid #ddd; padding: 10px; border-radius: 5px;\">\n",
      "        <img src=\"book1.jpg\" alt=\"Sharp Objects\" style=\"width: 100%; height: auto; border-radius: 5px;\">\n",
      "        <p><strong>Sharp Objects</strong></p>\n",
      "        <p style=\"color: green;\">£47.82</p>\n",
      "        <p style=\"color: green;\">✔ In stock</p>\n",
      "        <button style=\"background-color: blue; color: white; border: none; padding: 10px 15px; border-radius: 5px; cursor: pointer;\">Add to basket</button>\n",
      "    </div>\n",
      "\n",
      "    <div style=\"text-align: center; width: 200px; border: 1px solid #ddd; padding: 10px; border-radius: 5px;\">\n",
      "        <img src=\"book2.jpg\" alt=\"In a Dark, Dark Wood\" style=\"width: 100%; height: auto; border-radius: 5px;\">\n",
      "        <p><strong>In a Dark, Dark Wood</strong></p>\n",
      "        <p style=\"color: green;\">£19.63</p>\n",
      "        <p style=\"color: green;\">✔ In stock</p>\n",
      "        <button style=\"background-color: blue; color: white; border: none; padding: 10px 15px; border-radius: 5px; cursor: pointer;\">Add to basket</button>\n",
      "    </div>\n",
      "\n",
      "    <div style=\"text-align: center; width: 200px; border: 1px solid #ddd; padding: 10px; border-radius: 5px;\">\n",
      "        <img href=\"http://books.toscrape.com/media/cache/c0/59/c05972805aa7201171b8fc71a5b00292.jpg\" alt=\"The Past Never Ends\" style=\"width: 100%; height: auto; border-radius: 5px;\">\n",
      "        <p><strong>The Past Never Ends</strong></p>\n",
      "        <p style=\"color: green;\">£56.50</p>\n",
      "        <p style=\"color: green;\">✔ In stock</p>\n",
      "        <button style=\"background-color: blue; color: white; border: none; padding: 10px 15px; border-radius: 5px; cursor: pointer;\">Add to basket</button>\n",
      "    </div>\n",
      "\n",
      "    <div style=\"text-align: center; width: 200px; border: 1px solid #ddd; padding: 10px; border-radius: 5px;\">\n",
      "        <img src=\"book4.jpg\" alt=\"A Murder in Time\" style=\"width: 100%; height: auto; border-radius: 5px;\">\n",
      "        <p><strong>A Murder in Time</strong></p>\n",
      "        <p style=\"color: green;\">£16.64</p>\n",
      "        <p style=\"color: green;\"> Out stock</p>\n",
      "        <button style=\"background-color: blue; color: white; border: none; padding: 10px 15px; border-radius: 5px; cursor: pointer;\">Add to basket</button>\n",
      "    </div>\n",
      "</div>\n",
      "\n",
      "    \n",
      "\n",
      "    <h2>Featured Products</h2>\n",
      "    <div class=\"products\">\n",
      "        <div class=\"product-card\" data-id=\"101\">\n",
      "            <img src=\"https://via.placeholder.com/250x150?text=Product+1\" alt=\"Wireless Headphones\">\n",
      "            <p class=\"name\">Wireless Headphones</p>\n",
      "            <p class=\"price\" style=\"display: none;\">$49.99</p>\n",
      "            <p class=\"colors\">Available colors: Black, White, Blue</p>\n",
      "            <button>Add to Basket</button>\n",
      "        </div>\n",
      "        <div class=\"product-card\" data-id=\"102\">\n",
      "            <img src=\"https://via.placeholder.com/250x150?text=Product+2\" alt=\"Smart Speaker\">\n",
      "            <p class=\"name\">Smart Speaker</p>\n",
      "            <p class=\"price\" style=\"display: none;\">$89.99</p>\n",
      "            <p class=\"colors\">Available colors: Grey, Black</p>\n",
      "            <button>Add to Basket</button>\n",
      "        </div>\n",
      "        <div class=\"product-card\" data-id=\"103\">\n",
      "            <img src=\"https://via.placeholder.com/250x150?text=Product+3\" alt=\"Smart Watch\">\n",
      "            <p class=\"name\">Smart Watch</p>\n",
      "            <p class=\"price\" style=\"display: none;\">$149.99</p>\n",
      "            <p class=\"colors\">Available colors: Black, Silver, Gold</p>\n",
      "            <button>Add to Basket</button>\n",
      "        </div>\n",
      "    </div>\n",
      "\n",
      "    <div class=\"footer\">\n",
      "            <p>&copy; 2024 Web Scraping Practice. All Rights Reserved.</p>\n",
      "        </div>\n",
      "    </body>\n",
      "</html>\n",
      "\n"
     ]
    }
   ],
   "source": [
    "URL = \"https://www.baraasallout.com/test.html\"\n",
    "page = requests.get(URL)\n",
    "\n",
    "print(page.text)"
   ]
  },
  {
   "cell_type": "markdown",
   "id": "6cd4ff71",
   "metadata": {},
   "source": [
    "1. Extract Text Data:\n",
    "\n",
    "   Extract all headings (h1, h2).\n"
   ]
  },
  {
   "cell_type": "code",
   "execution_count": 4,
   "id": "fde83f9d",
   "metadata": {},
   "outputs": [],
   "source": [
    "soup = BeautifulSoup(page.content, \"html.parser\")"
   ]
  },
  {
   "cell_type": "code",
   "execution_count": 5,
   "id": "35bdbfd8",
   "metadata": {},
   "outputs": [
    {
     "data": {
      "text/plain": [
       "[<h1>Web Scraping Practice</h1>]"
      ]
     },
     "execution_count": 5,
     "metadata": {},
     "output_type": "execute_result"
    }
   ],
   "source": [
    "h1 = soup.find_all(\"h1\")\n",
    "h1"
   ]
  },
  {
   "cell_type": "code",
   "execution_count": 6,
   "id": "8e9f5b5f",
   "metadata": {},
   "outputs": [
    {
     "data": {
      "text/plain": [
       "[<h2>Available Products</h2>,\n",
       " <h2>Product Table</h2>,\n",
       " <h2>Watch This Video</h2>,\n",
       " <h2>Contact Us</h2>,\n",
       " <h2>Product Information</h2>,\n",
       " <h2>Featured Products</h2>]"
      ]
     },
     "execution_count": 6,
     "metadata": {},
     "output_type": "execute_result"
    }
   ],
   "source": [
    "h2 = soup.find_all(\"h2\")\n",
    "h2"
   ]
  },
  {
   "cell_type": "markdown",
   "id": "9cc3109b",
   "metadata": {},
   "source": [
    "Extract all text content inside p and li tags:"
   ]
  },
  {
   "cell_type": "code",
   "execution_count": 17,
   "id": "98158893",
   "metadata": {},
   "outputs": [
    {
     "data": {
      "text/plain": [
       "<p>Welcome to the web scraping task! Use your skills to extract the required data from this page.</p>"
      ]
     },
     "execution_count": 17,
     "metadata": {},
     "output_type": "execute_result"
    }
   ],
   "source": [
    "paragraph = soup.find('p')\n",
    "paragraph"
   ]
  },
  {
   "cell_type": "code",
   "execution_count": 18,
   "id": "9e64e8c5",
   "metadata": {},
   "outputs": [
    {
     "data": {
      "text/plain": [
       "[<p>Welcome to the web scraping task! Use your skills to extract the required data from this page.</p>,\n",
       " <p><strong>Sharp Objects</strong></p>,\n",
       " <p style=\"color: green;\">£47.82</p>,\n",
       " <p style=\"color: green;\">✔ In stock</p>,\n",
       " <p><strong>In a Dark, Dark Wood</strong></p>,\n",
       " <p style=\"color: green;\">£19.63</p>,\n",
       " <p style=\"color: green;\">✔ In stock</p>,\n",
       " <p><strong>The Past Never Ends</strong></p>,\n",
       " <p style=\"color: green;\">£56.50</p>,\n",
       " <p style=\"color: green;\">✔ In stock</p>,\n",
       " <p><strong>A Murder in Time</strong></p>,\n",
       " <p style=\"color: green;\">£16.64</p>,\n",
       " <p style=\"color: green;\"> Out stock</p>,\n",
       " <p class=\"name\">Wireless Headphones</p>,\n",
       " <p class=\"price\" style=\"display: none;\">$49.99</p>,\n",
       " <p class=\"colors\">Available colors: Black, White, Blue</p>,\n",
       " <p class=\"name\">Smart Speaker</p>,\n",
       " <p class=\"price\" style=\"display: none;\">$89.99</p>,\n",
       " <p class=\"colors\">Available colors: Grey, Black</p>,\n",
       " <p class=\"name\">Smart Watch</p>,\n",
       " <p class=\"price\" style=\"display: none;\">$149.99</p>,\n",
       " <p class=\"colors\">Available colors: Black, Silver, Gold</p>,\n",
       " <p>© 2024 Web Scraping Practice. All Rights Reserved.</p>]"
      ]
     },
     "execution_count": 18,
     "metadata": {},
     "output_type": "execute_result"
    }
   ],
   "source": [
    "all_p = soup.find_all('p')\n",
    "all_p"
   ]
  },
  {
   "cell_type": "code",
   "execution_count": 7,
   "id": "1623a136",
   "metadata": {},
   "outputs": [],
   "source": [
    "first_ul = soup.find('ul')"
   ]
  },
  {
   "cell_type": "code",
   "execution_count": 8,
   "id": "7ecbf9a5",
   "metadata": {},
   "outputs": [
    {
     "data": {
      "text/plain": [
       "[<li class=\"highlight\">Laptop</li>,\n",
       " <li>Smartphone</li>,\n",
       " <li>Tablet</li>,\n",
       " <li>Smartwatch</li>]"
      ]
     },
     "execution_count": 8,
     "metadata": {},
     "output_type": "execute_result"
    }
   ],
   "source": [
    "all_ul_li = first_ul.find_all('li')\n",
    "all_ul_li"
   ]
  },
  {
   "cell_type": "markdown",
   "id": "13ce4400",
   "metadata": {},
   "source": [
    "#Save this data into a Extract_Text_Data.CSV file."
   ]
  },
  {
   "cell_type": "code",
   "execution_count": 14,
   "id": "98dc3f28",
   "metadata": {},
   "outputs": [
    {
     "name": "stdout",
     "output_type": "stream",
     "text": [
      "Data has been saved to Extract_Text_Data.csv.\n"
     ]
    }
   ],
   "source": [
    "import csv\n",
    "import requests\n",
    "from bs4 import BeautifulSoup\n",
    "\n",
    "\n",
    "url = \"https://www.baraasallout.com/test.html\"\n",
    "response = requests.get(url)\n",
    "soup = BeautifulSoup(response.content, 'html.parser')\n",
    "\n",
    "\n",
    "headers_1 = [h1.get_text(strip=True) for h1 in soup.find_all('h1')]\n",
    "headers_2 = [h2.get_text(strip=True) for h2 in soup.find_all('h2')]\n",
    "headings = headers_1 + headers_2  \n",
    "\n",
    "paragraphs = [p.get_text(strip=True) for p in soup.find_all('p')]\n",
    "\n",
    "\n",
    "first_ul = soup.find('ul')\n",
    "list_items = [li.get_text(strip=True) for li in first_ul.find_all('li')] if first_ul else []\n",
    "\n",
    "\n",
    "data = (\n",
    "    [('Heading', heading) for heading in headings] +\n",
    "    [('Paragraph', paragraph) for paragraph in paragraphs] +\n",
    "    [('List Item', list_item) for list_item in list_items]\n",
    ")\n",
    "\n",
    " \n",
    "csv_file = 'Extract_Text_Data.csv'\n",
    "with open(csv_file, 'w', newline='', encoding='utf-8') as f:\n",
    "    writer = csv.writer(f)\n",
    "    writer.writerow(['Type', 'Content'])  \n",
    "    writer.writerows(data)  \n",
    "\n",
    "print(f\"Data has been saved to {csv_file}.\")\n",
    "\n"
   ]
  },
  {
   "cell_type": "markdown",
   "id": "b383888d",
   "metadata": {},
   "source": [
    "2. Extract Table Data:"
   ]
  },
  {
   "cell_type": "markdown",
   "id": "f99267d7",
   "metadata": {},
   "source": [
    "#Extract data from the table, including:\n",
    "\n",
    "-Product Name.\n",
    "\n",
    "-Price.\n",
    "\n",
    "-Stock Status.\n"
   ]
  },
  {
   "cell_type": "code",
   "execution_count": 16,
   "id": "a6e6b8ec",
   "metadata": {},
   "outputs": [
    {
     "data": {
      "text/plain": [
       "[<table>\n",
       " <tr>\n",
       " <th>Product</th>\n",
       " <th>Price</th>\n",
       " <th>In Stock</th>\n",
       " </tr>\n",
       " <tr>\n",
       " <td>Laptop</td>\n",
       " <td>$1000</td>\n",
       " <td>Yes</td>\n",
       " </tr>\n",
       " <tr>\n",
       " <td>Smartphone</td>\n",
       " <td>$800</td>\n",
       " <td>No</td>\n",
       " </tr>\n",
       " <tr>\n",
       " <td>Tablet</td>\n",
       " <td>$500</td>\n",
       " <td>Yes</td>\n",
       " </tr>\n",
       " </table>]"
      ]
     },
     "execution_count": 16,
     "metadata": {},
     "output_type": "execute_result"
    }
   ],
   "source": [
    "tables = soup.find_all('table')\n",
    "tables"
   ]
  },
  {
   "cell_type": "code",
   "execution_count": 19,
   "id": "66179028",
   "metadata": {},
   "outputs": [
    {
     "data": {
      "text/plain": [
       "[<td>Laptop</td>,\n",
       " <td>$1000</td>,\n",
       " <td>Yes</td>,\n",
       " <td>Smartphone</td>,\n",
       " <td>$800</td>,\n",
       " <td>No</td>,\n",
       " <td>Tablet</td>,\n",
       " <td>$500</td>,\n",
       " <td>Yes</td>]"
      ]
     },
     "execution_count": 19,
     "metadata": {},
     "output_type": "execute_result"
    }
   ],
   "source": [
    "tables[0].find_all('td')"
   ]
  },
  {
   "cell_type": "code",
   "execution_count": 20,
   "id": "066c10fd",
   "metadata": {},
   "outputs": [
    {
     "data": {
      "text/plain": [
       "['Product',\n",
       " 'Price',\n",
       " 'In Stock',\n",
       " '',\n",
       " '',\n",
       " 'Laptop',\n",
       " '$1000',\n",
       " 'Yes',\n",
       " '',\n",
       " '',\n",
       " 'Smartphone',\n",
       " '$800',\n",
       " 'No',\n",
       " '',\n",
       " '',\n",
       " 'Tablet',\n",
       " '$500',\n",
       " 'Yes']"
      ]
     },
     "execution_count": 20,
     "metadata": {},
     "output_type": "execute_result"
    }
   ],
   "source": [
    "tables[0].get_text().strip().split('\\n')"
   ]
  },
  {
   "cell_type": "code",
   "execution_count": 21,
   "id": "7373b003",
   "metadata": {},
   "outputs": [],
   "source": [
    "for el in soup.find_all('', attrs={'class': 'bg-yellow'}):\n",
    "    print(el.name)"
   ]
  },
  {
   "cell_type": "code",
   "execution_count": 22,
   "id": "b448d814",
   "metadata": {},
   "outputs": [
    {
     "data": {
      "text/plain": [
       "[<div style=\"display: flex; justify-content: space-around; margin-top: 20px;\">\n",
       " <div style=\"text-align: center; width: 200px; border: 1px solid #ddd; padding: 10px; border-radius: 5px;\">\n",
       " <img alt=\"Sharp Objects\" src=\"book1.jpg\" style=\"width: 100%; height: auto; border-radius: 5px;\"/>\n",
       " <p><strong>Sharp Objects</strong></p>\n",
       " <p style=\"color: green;\">£47.82</p>\n",
       " <p style=\"color: green;\">✔ In stock</p>\n",
       " <button style=\"background-color: blue; color: white; border: none; padding: 10px 15px; border-radius: 5px; cursor: pointer;\">Add to basket</button>\n",
       " </div>\n",
       " <div style=\"text-align: center; width: 200px; border: 1px solid #ddd; padding: 10px; border-radius: 5px;\">\n",
       " <img alt=\"In a Dark, Dark Wood\" src=\"book2.jpg\" style=\"width: 100%; height: auto; border-radius: 5px;\"/>\n",
       " <p><strong>In a Dark, Dark Wood</strong></p>\n",
       " <p style=\"color: green;\">£19.63</p>\n",
       " <p style=\"color: green;\">✔ In stock</p>\n",
       " <button style=\"background-color: blue; color: white; border: none; padding: 10px 15px; border-radius: 5px; cursor: pointer;\">Add to basket</button>\n",
       " </div>\n",
       " <div style=\"text-align: center; width: 200px; border: 1px solid #ddd; padding: 10px; border-radius: 5px;\">\n",
       " <img alt=\"The Past Never Ends\" href=\"http://books.toscrape.com/media/cache/c0/59/c05972805aa7201171b8fc71a5b00292.jpg\" style=\"width: 100%; height: auto; border-radius: 5px;\"/>\n",
       " <p><strong>The Past Never Ends</strong></p>\n",
       " <p style=\"color: green;\">£56.50</p>\n",
       " <p style=\"color: green;\">✔ In stock</p>\n",
       " <button style=\"background-color: blue; color: white; border: none; padding: 10px 15px; border-radius: 5px; cursor: pointer;\">Add to basket</button>\n",
       " </div>\n",
       " <div style=\"text-align: center; width: 200px; border: 1px solid #ddd; padding: 10px; border-radius: 5px;\">\n",
       " <img alt=\"A Murder in Time\" src=\"book4.jpg\" style=\"width: 100%; height: auto; border-radius: 5px;\"/>\n",
       " <p><strong>A Murder in Time</strong></p>\n",
       " <p style=\"color: green;\">£16.64</p>\n",
       " <p style=\"color: green;\"> Out stock</p>\n",
       " <button style=\"background-color: blue; color: white; border: none; padding: 10px 15px; border-radius: 5px; cursor: pointer;\">Add to basket</button>\n",
       " </div>\n",
       " </div>,\n",
       " <div style=\"text-align: center; width: 200px; border: 1px solid #ddd; padding: 10px; border-radius: 5px;\">\n",
       " <img alt=\"Sharp Objects\" src=\"book1.jpg\" style=\"width: 100%; height: auto; border-radius: 5px;\"/>\n",
       " <p><strong>Sharp Objects</strong></p>\n",
       " <p style=\"color: green;\">£47.82</p>\n",
       " <p style=\"color: green;\">✔ In stock</p>\n",
       " <button style=\"background-color: blue; color: white; border: none; padding: 10px 15px; border-radius: 5px; cursor: pointer;\">Add to basket</button>\n",
       " </div>,\n",
       " <div style=\"text-align: center; width: 200px; border: 1px solid #ddd; padding: 10px; border-radius: 5px;\">\n",
       " <img alt=\"In a Dark, Dark Wood\" src=\"book2.jpg\" style=\"width: 100%; height: auto; border-radius: 5px;\"/>\n",
       " <p><strong>In a Dark, Dark Wood</strong></p>\n",
       " <p style=\"color: green;\">£19.63</p>\n",
       " <p style=\"color: green;\">✔ In stock</p>\n",
       " <button style=\"background-color: blue; color: white; border: none; padding: 10px 15px; border-radius: 5px; cursor: pointer;\">Add to basket</button>\n",
       " </div>,\n",
       " <div style=\"text-align: center; width: 200px; border: 1px solid #ddd; padding: 10px; border-radius: 5px;\">\n",
       " <img alt=\"The Past Never Ends\" href=\"http://books.toscrape.com/media/cache/c0/59/c05972805aa7201171b8fc71a5b00292.jpg\" style=\"width: 100%; height: auto; border-radius: 5px;\"/>\n",
       " <p><strong>The Past Never Ends</strong></p>\n",
       " <p style=\"color: green;\">£56.50</p>\n",
       " <p style=\"color: green;\">✔ In stock</p>\n",
       " <button style=\"background-color: blue; color: white; border: none; padding: 10px 15px; border-radius: 5px; cursor: pointer;\">Add to basket</button>\n",
       " </div>,\n",
       " <div style=\"text-align: center; width: 200px; border: 1px solid #ddd; padding: 10px; border-radius: 5px;\">\n",
       " <img alt=\"A Murder in Time\" src=\"book4.jpg\" style=\"width: 100%; height: auto; border-radius: 5px;\"/>\n",
       " <p><strong>A Murder in Time</strong></p>\n",
       " <p style=\"color: green;\">£16.64</p>\n",
       " <p style=\"color: green;\"> Out stock</p>\n",
       " <button style=\"background-color: blue; color: white; border: none; padding: 10px 15px; border-radius: 5px; cursor: pointer;\">Add to basket</button>\n",
       " </div>,\n",
       " <div class=\"products\">\n",
       " <div class=\"product-card\" data-id=\"101\">\n",
       " <img alt=\"Wireless Headphones\" src=\"https://via.placeholder.com/250x150?text=Product+1\"/>\n",
       " <p class=\"name\">Wireless Headphones</p>\n",
       " <p class=\"price\" style=\"display: none;\">$49.99</p>\n",
       " <p class=\"colors\">Available colors: Black, White, Blue</p>\n",
       " <button>Add to Basket</button>\n",
       " </div>\n",
       " <div class=\"product-card\" data-id=\"102\">\n",
       " <img alt=\"Smart Speaker\" src=\"https://via.placeholder.com/250x150?text=Product+2\"/>\n",
       " <p class=\"name\">Smart Speaker</p>\n",
       " <p class=\"price\" style=\"display: none;\">$89.99</p>\n",
       " <p class=\"colors\">Available colors: Grey, Black</p>\n",
       " <button>Add to Basket</button>\n",
       " </div>\n",
       " <div class=\"product-card\" data-id=\"103\">\n",
       " <img alt=\"Smart Watch\" src=\"https://via.placeholder.com/250x150?text=Product+3\"/>\n",
       " <p class=\"name\">Smart Watch</p>\n",
       " <p class=\"price\" style=\"display: none;\">$149.99</p>\n",
       " <p class=\"colors\">Available colors: Black, Silver, Gold</p>\n",
       " <button>Add to Basket</button>\n",
       " </div>\n",
       " </div>,\n",
       " <div class=\"product-card\" data-id=\"101\">\n",
       " <img alt=\"Wireless Headphones\" src=\"https://via.placeholder.com/250x150?text=Product+1\"/>\n",
       " <p class=\"name\">Wireless Headphones</p>\n",
       " <p class=\"price\" style=\"display: none;\">$49.99</p>\n",
       " <p class=\"colors\">Available colors: Black, White, Blue</p>\n",
       " <button>Add to Basket</button>\n",
       " </div>,\n",
       " <div class=\"product-card\" data-id=\"102\">\n",
       " <img alt=\"Smart Speaker\" src=\"https://via.placeholder.com/250x150?text=Product+2\"/>\n",
       " <p class=\"name\">Smart Speaker</p>\n",
       " <p class=\"price\" style=\"display: none;\">$89.99</p>\n",
       " <p class=\"colors\">Available colors: Grey, Black</p>\n",
       " <button>Add to Basket</button>\n",
       " </div>,\n",
       " <div class=\"product-card\" data-id=\"103\">\n",
       " <img alt=\"Smart Watch\" src=\"https://via.placeholder.com/250x150?text=Product+3\"/>\n",
       " <p class=\"name\">Smart Watch</p>\n",
       " <p class=\"price\" style=\"display: none;\">$149.99</p>\n",
       " <p class=\"colors\">Available colors: Black, Silver, Gold</p>\n",
       " <button>Add to Basket</button>\n",
       " </div>,\n",
       " <div class=\"footer\">\n",
       " <p>© 2024 Web Scraping Practice. All Rights Reserved.</p>\n",
       " </div>]"
      ]
     },
     "execution_count": 22,
     "metadata": {},
     "output_type": "execute_result"
    }
   ],
   "source": [
    "all_divs = soup.find_all('div')\n",
    "all_divs"
   ]
  },
  {
   "cell_type": "markdown",
   "id": "6e7e8c5b",
   "metadata": {},
   "source": [
    "#Save this data into a Extract_Table_Data.CSV file.\n"
   ]
  },
  {
   "cell_type": "code",
   "execution_count": 23,
   "id": "6fd4b150",
   "metadata": {},
   "outputs": [
    {
     "name": "stdout",
     "output_type": "stream",
     "text": [
      "Data has been saved to Extract_Table_Data.csv.\n"
     ]
    }
   ],
   "source": [
    "import csv\n",
    "import requests\n",
    "from bs4 import BeautifulSoup\n",
    "\n",
    "\n",
    "url = 'https://www.baraasallout.com/test.html'\n",
    "response = requests.get(url)\n",
    "soup = BeautifulSoup(response.content, 'html.parser')\n",
    "\n",
    "\n",
    "tables = soup.find_all('table')\n",
    "table_data = []\n",
    "if tables:\n",
    "    rows = tables[0].find_all('tr')  \n",
    "    table_data = [[td.get_text(strip=True) for td in row.find_all('td')] for row in rows]\n",
    "\n",
    "\n",
    "bg_yellow_elements = [el.name for el in soup.find_all('', attrs={'class': 'bg-yellow'})]\n",
    "\n",
    "\n",
    "all_divs = [div.get_text(strip=True) for div in soup.find_all('div')]\n",
    "\n",
    "\n",
    "data = (\n",
    "    [('Table Data', '; '.join(row)) for row in table_data if row] +  # دمج صفوف الجدول في نص واحد\n",
    "    [('BG Yellow Element', element) for element in bg_yellow_elements] +\n",
    "    [('DIV Content', div) for div in all_divs]\n",
    ")\n",
    "\n",
    " \n",
    "csv_file = 'Extract_Table_Data.csv'\n",
    "with open(csv_file, 'w', newline='', encoding='utf-8') as f:\n",
    "    writer = csv.writer(f)\n",
    "    writer.writerow(['Type', 'Content'])  \n",
    "    writer.writerows(data)  \n",
    "\n",
    "print(f\"Data has been saved to {csv_file}.\")\n"
   ]
  },
  {
   "cell_type": "markdown",
   "id": "36dfa965",
   "metadata": {},
   "source": [
    "3. Extract Product Information (Cards Section):\n",
    "● Extract data from the book cards at the bottom of the page, including:\n",
    "\n",
    "● BookTitle.\n",
    "\n",
    "● Price.\n",
    "\n",
    "● StockAvailability.\n",
    "\n",
    "● Button text (e.g., \"Add to basket\")"
   ]
  },
  {
   "cell_type": "code",
   "execution_count": 24,
   "id": "c167dab6",
   "metadata": {},
   "outputs": [
    {
     "name": "stdout",
     "output_type": "stream",
     "text": [
      "{'BookTitle': 'Sharp Objects', 'Price': '£47.82', 'StockAvailability': '✔ In stock', 'ButtonText': 'Add to basket'}\n",
      "{'BookTitle': 'In a Dark, Dark Wood', 'Price': '£19.63', 'StockAvailability': '✔ In stock', 'ButtonText': 'Add to basket'}\n",
      "{'BookTitle': 'The Past Never Ends', 'Price': '£56.50', 'StockAvailability': '✔ In stock', 'ButtonText': 'Add to basket'}\n",
      "{'BookTitle': 'A Murder in Time', 'Price': '£16.64', 'StockAvailability': 'Out stock', 'ButtonText': 'Add to basket'}\n"
     ]
    }
   ],
   "source": [
    "book_cards = soup.find_all('div', style=lambda value: value and 'text-align: center' in value)\n",
    "\n",
    "books_data = []\n",
    "for card in book_cards:\n",
    "    title = card.find('p').strong.text\n",
    "    price = card.find('p', style=lambda value: value and 'color: green' in value).text\n",
    "    stock = card.find_all('p', style=lambda value: value and 'color: green' in value)[-1].text.strip()\n",
    "    button_text = card.find('button').text.strip()\n",
    "\n",
    "    books_data.append({\n",
    "        'BookTitle': title,\n",
    "        'Price': price,\n",
    "        'StockAvailability': stock,\n",
    "        'ButtonText': button_text\n",
    "    })\n",
    "\n",
    "for book in books_data:\n",
    "    print(book)"
   ]
  },
  {
   "cell_type": "markdown",
   "id": "17ac7565",
   "metadata": {},
   "source": [
    "#Save the data into a  Product_Information.JSON file.\n"
   ]
  },
  {
   "cell_type": "code",
   "execution_count": 25,
   "id": "0b262634",
   "metadata": {},
   "outputs": [
    {
     "name": "stdout",
     "output_type": "stream",
     "text": [
      "Product data has been saved to Product_Information.json.\n"
     ]
    }
   ],
   "source": [
    "import requests\n",
    "from bs4 import BeautifulSoup\n",
    "import json\n",
    "\n",
    "\n",
    "url = 'https://www.baraasallout.com/test.html'\n",
    "response = requests.get(url)\n",
    "soup = BeautifulSoup(response.text, 'html.parser')\n",
    "\n",
    "\n",
    "product_cards = soup.find_all('div', class_='book-card')\n",
    "\n",
    "\n",
    "products = []\n",
    "for card in product_cards:\n",
    "    \n",
    "    title = card.find('h3').get_text(strip=True) if card.find('h3') else None\n",
    "    \n",
    "    \n",
    "    price = card.find('p', class_='price').get_text(strip=True) if card.find('p', class_='price') else None\n",
    "    \n",
    "    \n",
    "    stock_availability = card.find('p', class_='availability').get_text(strip=True) if card.find('p', class_='availability') else None\n",
    "    \n",
    "    \n",
    "    button = card.find('button').get_text(strip=True) if card.find('button') else None\n",
    "    \n",
    "    \n",
    "    products.append({\n",
    "        \"BookTitle\": title,\n",
    "        \"Price\": price,\n",
    "        \"StockAvailability\": stock_availability,\n",
    "        \"ButtonText\": button\n",
    "    })\n",
    "\n",
    " \n",
    "json_file = 'Product_Information.json'\n",
    "with open(json_file, 'w', encoding='utf-8') as file:\n",
    "    json.dump(products, file, ensure_ascii=False, indent=4)\n",
    "\n",
    "print(f\"Product data has been saved to {json_file}.\")\n",
    "\n"
   ]
  },
  {
   "cell_type": "markdown",
   "id": "17e67a54",
   "metadata": {},
   "source": [
    "4-Extract Form Details:\n",
    "\n",
    "_Extract all input fields from the form, including:\n",
    "\n",
    "-Field name (e.g., username, password).\n",
    "\n",
    "-Input type (e.g., text, password, checkbox, etc.).\n",
    "\n",
    "-Default values, if any.\n"
   ]
  },
  {
   "cell_type": "code",
   "execution_count": 26,
   "id": "f6d21278",
   "metadata": {},
   "outputs": [
    {
     "data": {
      "text/plain": [
       "[<form>\n",
       " <label for=\"username\">Username:</label>\n",
       " <input id=\"username\" name=\"username\" placeholder=\"Enter your username\" type=\"text\"/>\n",
       " <label for=\"password\">Password:</label>\n",
       " <input id=\"password\" name=\"password\" placeholder=\"Enter your password\" type=\"password\"/>\n",
       " <label for=\"options\">Choose an option:</label>\n",
       " <select id=\"options\" name=\"options\">\n",
       " <option value=\"option1\">Option 1</option>\n",
       " <option value=\"option2\">Option 2</option>\n",
       " <option value=\"option3\">Option 3</option>\n",
       " </select>\n",
       " <label>\n",
       " <input name=\"terms\" type=\"checkbox\"/> I agree to the terms and conditions\n",
       "             </label>\n",
       " <input type=\"submit\" value=\"Submit\"/>\n",
       " </form>]"
      ]
     },
     "execution_count": 26,
     "metadata": {},
     "output_type": "execute_result"
    }
   ],
   "source": [
    "forms = soup.find_all('form')\n",
    "forms"
   ]
  },
  {
   "cell_type": "code",
   "execution_count": 28,
   "id": "a29f8dd0",
   "metadata": {},
   "outputs": [
    {
     "data": {
      "text/plain": [
       "<form>\n",
       "<label for=\"username\">Username:</label>\n",
       "<input id=\"username\" name=\"username\" placeholder=\"Enter your username\" type=\"text\"/>\n",
       "<label for=\"password\">Password:</label>\n",
       "<input id=\"password\" name=\"password\" placeholder=\"Enter your password\" type=\"password\"/>\n",
       "<label for=\"options\">Choose an option:</label>\n",
       "<select id=\"options\" name=\"options\">\n",
       "<option value=\"option1\">Option 1</option>\n",
       "<option value=\"option2\">Option 2</option>\n",
       "<option value=\"option3\">Option 3</option>\n",
       "</select>\n",
       "<label>\n",
       "<input name=\"terms\" type=\"checkbox\"/> I agree to the terms and conditions\n",
       "            </label>\n",
       "<input type=\"submit\" value=\"Submit\"/>\n",
       "</form>"
      ]
     },
     "execution_count": 28,
     "metadata": {},
     "output_type": "execute_result"
    }
   ],
   "source": [
    "first_form = soup.find('form')\n",
    "first_form"
   ]
  },
  {
   "cell_type": "code",
   "execution_count": 29,
   "id": "e517ad6a",
   "metadata": {},
   "outputs": [
    {
     "data": {
      "text/plain": [
       "[<input id=\"username\" name=\"username\" placeholder=\"Enter your username\" type=\"text\"/>,\n",
       " <input id=\"password\" name=\"password\" placeholder=\"Enter your password\" type=\"password\"/>,\n",
       " <input name=\"terms\" type=\"checkbox\"/>,\n",
       " <input type=\"submit\" value=\"Submit\"/>]"
      ]
     },
     "execution_count": 29,
     "metadata": {},
     "output_type": "execute_result"
    }
   ],
   "source": [
    "input_fields = first_form.find_all('input')\n",
    "input_fields"
   ]
  },
  {
   "cell_type": "code",
   "execution_count": 30,
   "id": "a0e54e78",
   "metadata": {},
   "outputs": [
    {
     "data": {
      "text/plain": [
       "'\\nUsername:\\n\\nPassword:\\n\\nChoose an option:\\n\\nOption 1\\nOption 2\\nOption 3\\n\\n\\n I agree to the terms and conditions\\n            \\n\\n'"
      ]
     },
     "execution_count": 30,
     "metadata": {},
     "output_type": "execute_result"
    }
   ],
   "source": [
    "first_form.get_text()"
   ]
  },
  {
   "cell_type": "code",
   "execution_count": 31,
   "id": "8146a767",
   "metadata": {},
   "outputs": [
    {
     "name": "stdout",
     "output_type": "stream",
     "text": [
      "{'Field Name': 'username', 'Input Type': 'text', 'Default Value': 'N/A'}\n",
      "{'Field Name': 'password', 'Input Type': 'password', 'Default Value': 'N/A'}\n",
      "{'Field Name': 'terms', 'Input Type': 'checkbox', 'Default Value': 'N/A'}\n",
      "{'Field Name': 'N/A', 'Input Type': 'submit', 'Default Value': 'Submit'}\n"
     ]
    }
   ],
   "source": [
    "fields_data = []\n",
    "\n",
    "for field in input_fields:\n",
    "    field_name = field.get('name', 'N/A') \n",
    "    input_type = field.get('type', 'text')  \n",
    "    default_value = field.get('value', 'N/A')  \n",
    "    fields_data.append({\n",
    "        'Field Name': field_name,\n",
    "        'Input Type': input_type,\n",
    "        'Default Value': default_value\n",
    "    })\n",
    "\n",
    "for field in fields_data:\n",
    "    print(field)"
   ]
  },
  {
   "cell_type": "markdown",
   "id": "40b7ba26",
   "metadata": {},
   "source": [
    "#Saving the data into a  JSON file."
   ]
  },
  {
   "cell_type": "code",
   "execution_count": 32,
   "id": "c4f7ddb9",
   "metadata": {},
   "outputs": [
    {
     "name": "stdout",
     "output_type": "stream",
     "text": [
      "Form details have been saved to Form_Details.json.\n"
     ]
    }
   ],
   "source": [
    "import requests\n",
    "from bs4 import BeautifulSoup\n",
    "import json\n",
    "\n",
    "\n",
    "url = 'https://www.baraasallout.com/test.html'\n",
    "response = requests.get(url)\n",
    "soup = BeautifulSoup(response.text, 'html.parser')\n",
    "\n",
    "\n",
    "forms = soup.find_all('form')\n",
    "form_details = []\n",
    "\n",
    "for form in forms:\n",
    "    inputs = form.find_all('input')\n",
    "    input_details = []\n",
    "    for input_tag in inputs:\n",
    "        field_name = input_tag.get('name', 'N/A')  \n",
    "        input_type = input_tag.get('type', 'text')  \n",
    "        default_value = input_tag.get('value', None)  \n",
    "        input_details.append({\n",
    "            \"FieldName\": field_name,\n",
    "            \"InputType\": input_type,\n",
    "            \"DefaultValue\": default_value\n",
    "        })\n",
    "    form_details.append({\"FormInputs\": input_details})\n",
    "\n",
    " \n",
    "form_json_file = 'Form_Details.json'\n",
    "with open(form_json_file, \"w\", encoding=\"utf-8\") as outfile:\n",
    "    json.dump(form_details, outfile, ensure_ascii=False, indent=4)\n",
    "\n",
    "print(f\"Form details have been saved to {form_json_file}.\")\n"
   ]
  },
  {
   "cell_type": "markdown",
   "id": "ae369cb2",
   "metadata": {},
   "source": [
    "5. Extract Links and Multimedia:\n",
    "    \n",
    "-Extract the hyperlink (a tag) and its href value.\n",
    "\n",
    "-Extract the video link from the iframe tag."
   ]
  },
  {
   "cell_type": "code",
   "execution_count": 33,
   "id": "0c7780a1",
   "metadata": {},
   "outputs": [
    {
     "data": {
      "text/plain": [
       "[]"
      ]
     },
     "execution_count": 33,
     "metadata": {},
     "output_type": "execute_result"
    }
   ],
   "source": [
    "links = soup.find_all('a')\n",
    "links"
   ]
  },
  {
   "cell_type": "code",
   "execution_count": 34,
   "id": "e1ff871b",
   "metadata": {},
   "outputs": [],
   "source": [
    "first_link = soup.find('a')\n",
    "first_link"
   ]
  },
  {
   "cell_type": "code",
   "execution_count": 35,
   "id": "e4262f1b",
   "metadata": {},
   "outputs": [
    {
     "name": "stdout",
     "output_type": "stream",
     "text": [
      "No <a> tag found in the HTML.\n"
     ]
    }
   ],
   "source": [
    "first_link = soup.find('a')  \n",
    "\n",
    "if first_link:\n",
    "    link_text = first_link.get_text(strip=True)\n",
    "    link_attributes = first_link.attrs\n",
    "    print(\"First Link Text:\", link_text)\n",
    "    print(\"First Link Attributes:\", link_attributes)\n",
    "else:\n",
    "    print(\"No <a> tag found in the HTML.\")"
   ]
  },
  {
   "cell_type": "code",
   "execution_count": 36,
   "id": "a8ff171e",
   "metadata": {},
   "outputs": [
    {
     "ename": "AttributeError",
     "evalue": "'NoneType' object has no attribute 'get_text'",
     "output_type": "error",
     "traceback": [
      "\u001b[1;31m---------------------------------------------------------------------------\u001b[0m",
      "\u001b[1;31mAttributeError\u001b[0m                            Traceback (most recent call last)",
      "Cell \u001b[1;32mIn[36], line 1\u001b[0m\n\u001b[1;32m----> 1\u001b[0m first_link\u001b[38;5;241m.\u001b[39mget_text()\n\u001b[0;32m      2\u001b[0m first_link\u001b[38;5;241m.\u001b[39mattrs\n",
      "\u001b[1;31mAttributeError\u001b[0m: 'NoneType' object has no attribute 'get_text'"
     ]
    }
   ],
   "source": [
    "first_link.get_text()\n",
    "first_link.attrs\n",
    "#Element not found"
   ]
  },
  {
   "cell_type": "code",
   "execution_count": 37,
   "id": "ef0e1ba3",
   "metadata": {},
   "outputs": [
    {
     "ename": "AttributeError",
     "evalue": "'NoneType' object has no attribute 'attrs'",
     "output_type": "error",
     "traceback": [
      "\u001b[1;31m---------------------------------------------------------------------------\u001b[0m",
      "\u001b[1;31mAttributeError\u001b[0m                            Traceback (most recent call last)",
      "Cell \u001b[1;32mIn[37], line 1\u001b[0m\n\u001b[1;32m----> 1\u001b[0m first_link\u001b[38;5;241m.\u001b[39mattrs[\u001b[38;5;124m'\u001b[39m\u001b[38;5;124mhref\u001b[39m\u001b[38;5;124m'\u001b[39m]\n",
      "\u001b[1;31mAttributeError\u001b[0m: 'NoneType' object has no attribute 'attrs'"
     ]
    }
   ],
   "source": [
    "first_link.attrs['href']\n",
    "#Element not found"
   ]
  },
  {
   "cell_type": "code",
   "execution_count": 38,
   "id": "dc2e7e20",
   "metadata": {},
   "outputs": [
    {
     "data": {
      "text/plain": [
       "<iframe height=\"315\" src=\"https://www.youtube.com/watch?v=ujf9RNuBdCU\" width=\"560\"></iframe>"
      ]
     },
     "execution_count": 38,
     "metadata": {},
     "output_type": "execute_result"
    }
   ],
   "source": [
    "iframe = soup.find('iframe')\n",
    "iframe"
   ]
  },
  {
   "cell_type": "code",
   "execution_count": 39,
   "id": "ac81356c",
   "metadata": {},
   "outputs": [
    {
     "data": {
      "text/plain": [
       "{'width': '560',\n",
       " 'height': '315',\n",
       " 'src': 'https://www.youtube.com/watch?v=ujf9RNuBdCU'}"
      ]
     },
     "execution_count": 39,
     "metadata": {},
     "output_type": "execute_result"
    }
   ],
   "source": [
    "iframe.attrs"
   ]
  },
  {
   "cell_type": "code",
   "execution_count": 40,
   "id": "48970235",
   "metadata": {},
   "outputs": [
    {
     "data": {
      "text/plain": [
       "'https://www.youtube.com/watch?v=ujf9RNuBdCU'"
      ]
     },
     "execution_count": 40,
     "metadata": {},
     "output_type": "execute_result"
    }
   ],
   "source": [
    "iframe.get('src')"
   ]
  },
  {
   "cell_type": "markdown",
   "id": "d9d4158d",
   "metadata": {},
   "source": [
    "# Saving the data to a JSON file"
   ]
  },
  {
   "cell_type": "code",
   "execution_count": 41,
   "id": "6555c76a",
   "metadata": {},
   "outputs": [
    {
     "name": "stdout",
     "output_type": "stream",
     "text": [
      "Links and multimedia data have been saved to Links_and_Multimedia.json.\n"
     ]
    }
   ],
   "source": [
    "import json\n",
    "from bs4 import BeautifulSoup\n",
    "import requests\n",
    "\n",
    "\n",
    "url = 'https://www.baraasallout.com/test.html'\n",
    "response = requests.get(url)\n",
    "soup = BeautifulSoup(response.text, 'html.parser')\n",
    "\n",
    "\n",
    "links = soup.find_all('a', href=True)  # جميع عناصر <a> التي تحتوي على href\n",
    "hyperlinks = [{\"Text\": link.get_text(strip=True), \"Href\": link['href']} for link in links]\n",
    "\n",
    " \n",
    "iframes = soup.find_all('iframe')\n",
    "videos = [{\"Src\": iframe.get('src', 'N/A')} for iframe in iframes]\n",
    "\n",
    "\n",
    "multimedia_data = {\n",
    "    \"Hyperlinks\": hyperlinks,\n",
    "    \"Videos\": videos\n",
    "}\n",
    "\n",
    " \n",
    "links_json_file = 'Links_and_Multimedia.json'\n",
    "with open(links_json_file, 'w', encoding='utf-8') as file:\n",
    "    json.dump(multimedia_data, file, indent=4, ensure_ascii=False)\n",
    "\n",
    "print(f\"Links and multimedia data have been saved to {links_json_file}.\")\n"
   ]
  },
  {
   "cell_type": "markdown",
   "id": "ad553e96",
   "metadata": {},
   "source": [
    "6. Scraping Challenge:\n",
    "    \n",
    "_Students must write a script to extract data from the Featured Products section with the following requirements:\n",
    "    \n",
    "-Product Name: Located within span class=\"name\".\n",
    "    \n",
    "-Hidden Price: Located within span class=\"price\", which has style=\"display: none;\".\n",
    "    \n",
    "-Available Colors: Located within span class=\"colors\".\n",
    "    \n",
    "-Product ID: The value stored in the data-id attribute."
   ]
  },
  {
   "cell_type": "code",
   "execution_count": 42,
   "id": "e690e2b8",
   "metadata": {},
   "outputs": [
    {
     "data": {
      "text/plain": [
       "[<div class=\"product-card\" data-id=\"101\">\n",
       " <img alt=\"Wireless Headphones\" src=\"https://via.placeholder.com/250x150?text=Product+1\"/>\n",
       " <p class=\"name\">Wireless Headphones</p>\n",
       " <p class=\"price\" style=\"display: none;\">$49.99</p>\n",
       " <p class=\"colors\">Available colors: Black, White, Blue</p>\n",
       " <button>Add to Basket</button>\n",
       " </div>,\n",
       " <div class=\"product-card\" data-id=\"102\">\n",
       " <img alt=\"Smart Speaker\" src=\"https://via.placeholder.com/250x150?text=Product+2\"/>\n",
       " <p class=\"name\">Smart Speaker</p>\n",
       " <p class=\"price\" style=\"display: none;\">$89.99</p>\n",
       " <p class=\"colors\">Available colors: Grey, Black</p>\n",
       " <button>Add to Basket</button>\n",
       " </div>,\n",
       " <div class=\"product-card\" data-id=\"103\">\n",
       " <img alt=\"Smart Watch\" src=\"https://via.placeholder.com/250x150?text=Product+3\"/>\n",
       " <p class=\"name\">Smart Watch</p>\n",
       " <p class=\"price\" style=\"display: none;\">$149.99</p>\n",
       " <p class=\"colors\">Available colors: Black, Silver, Gold</p>\n",
       " <button>Add to Basket</button>\n",
       " </div>]"
      ]
     },
     "execution_count": 42,
     "metadata": {},
     "output_type": "execute_result"
    }
   ],
   "source": [
    "product_cards = soup.find_all(\"div\", class_=\"product-card\")\n",
    "product_cards"
   ]
  },
  {
   "cell_type": "code",
   "execution_count": 43,
   "id": "4639e5d0",
   "metadata": {},
   "outputs": [
    {
     "name": "stdout",
     "output_type": "stream",
     "text": [
      "{'id': '101', 'name': 'Wireless Headphones', 'price': '$49.99', 'colors': 'Black, White, Blue'}\n",
      "{'id': '102', 'name': 'Smart Speaker', 'price': '$89.99', 'colors': 'Grey, Black'}\n",
      "{'id': '103', 'name': 'Smart Watch', 'price': '$149.99', 'colors': 'Black, Silver, Gold'}\n"
     ]
    }
   ],
   "source": [
    "products = []\n",
    "for card in product_cards:\n",
    "    product_id = card.get(\"data-id\")\n",
    "    name = card.find(\"p\", class_=\"name\").text\n",
    "    price = card.find(\"p\", class_=\"price\").text.strip()  # Extract hidden price\n",
    "    colors = card.find(\"p\", class_=\"colors\").text.replace(\"Available colors: \", \"\").strip()\n",
    "    products.append({\n",
    "        \"id\": product_id,\n",
    "        \"name\": name,\n",
    "        \"price\": price,\n",
    "        \"colors\": colors\n",
    "    })\n",
    "\n",
    "for product in products:\n",
    "    print(product)"
   ]
  },
  {
   "cell_type": "code",
   "execution_count": null,
   "id": "6e810573",
   "metadata": {},
   "outputs": [],
   "source": []
  }
 ],
 "metadata": {
  "kernelspec": {
   "display_name": "Python 3 (ipykernel)",
   "language": "python",
   "name": "python3"
  },
  "language_info": {
   "codemirror_mode": {
    "name": "ipython",
    "version": 3
   },
   "file_extension": ".py",
   "mimetype": "text/x-python",
   "name": "python",
   "nbconvert_exporter": "python",
   "pygments_lexer": "ipython3",
   "version": "3.11.5"
  }
 },
 "nbformat": 4,
 "nbformat_minor": 5
}
